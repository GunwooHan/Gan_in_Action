{
 "cells": [
  {
   "cell_type": "code",
   "execution_count": 1,
   "metadata": {},
   "outputs": [],
   "source": [
    "%matplotlib inline\n",
    "\n",
    "import matplotlib.pyplot as plt\n",
    "import numpy as np\n",
    "\n",
    "from tensorflow.keras import backend as K\n",
    "from tensorflow.keras.datasets import mnist\n",
    "from tensorflow.keras.layers import Activation, BatchNormalization, Concatenate, Dense, Dropout, Flatten, Input, Lambda, Reshape, LeakyReLU, Conv2D, Conv2DTranspose\n",
    "from tensorflow.keras.models import Model, Sequential\n",
    "from tensorflow.keras.optimizers import Adam\n",
    "from tensorflow.keras.utils import to_categorical"
   ]
  },
  {
   "cell_type": "code",
   "execution_count": 2,
   "metadata": {},
   "outputs": [],
   "source": [
    "class Dataset:\n",
    "    def __init__(self,num_labeled):\n",
    "        self.num_labeled = num_labeled\n",
    "        (self.x_train, self.y_train), (self.x_test, self.y_test) = mnist.load_data()\n",
    "\n",
    "        def preprocess_imgs(x):\n",
    "            x = (x.astype(np.float32) - 127.5)/ 127.5\n",
    "            x = np.expand_dims(x, axis=3)\n",
    "            return x\n",
    "\n",
    "        def preprocess_labels(y):\n",
    "            return y.reshape(-1,1)\n",
    "\n",
    "        self.x_train = preprocess_imgs(self.x_train)\n",
    "        self.y_train = preprocess_labels(self.y_train)\n",
    "        \n",
    "        self.x_test = preprocess_imgs(self.x_test)\n",
    "        self.y_test = preprocess_labels(self.y_test)\n",
    "        \n",
    "    def batch_labeled(self, batch_size):\n",
    "        idx = np.random.randint(0, self.num_labeled, batch_size)\n",
    "        imgs = self.x_train[idx]\n",
    "        labels = self.y_train[idx]\n",
    "        return imgs,labels\n",
    "    \n",
    "    def batch_unlabeled(self, batch_size):\n",
    "        idx = np.random.randint(self.num_labeled, self.x_train.shape[0], batch_size)\n",
    "        imgs = self.x_train[idx]\n",
    "        return imgs\n",
    "    \n",
    "    def training_set(self):\n",
    "        x_train = self.x_train[range(self.num_labeled)]\n",
    "        y_train = self.y_train[range(self.num_labeled)]\n",
    "        return x_train, y_train\n",
    "    \n",
    "    def test_set(self):\n",
    "        return self.x_test, self.y_test"
   ]
  },
  {
   "cell_type": "code",
   "execution_count": 3,
   "metadata": {},
   "outputs": [],
   "source": [
    "num_labeled = 100\n",
    "dataset = Dataset(num_labeled)"
   ]
  },
  {
   "cell_type": "code",
   "execution_count": 4,
   "metadata": {},
   "outputs": [],
   "source": [
    "img_rows = 28\n",
    "img_cols = 28\n",
    "channels = 1\n",
    "\n",
    "img_shape = (img_rows,img_cols,channels)\n",
    "\n",
    "z_dim = 100\n",
    "num_classes = 10"
   ]
  },
  {
   "cell_type": "code",
   "execution_count": 5,
   "metadata": {},
   "outputs": [],
   "source": [
    "def build_generator(z_dim):\n",
    "    model = Sequential()\n",
    "    \n",
    "    model.add(Dense(256 * 7 * 7, input_dim=z_dim))\n",
    "    model.add(Reshape((7,7,256)))\n",
    "    \n",
    "    model.add(Conv2DTranspose(128, kernel_size=3, strides=2, padding='same'))\n",
    "    \n",
    "    model.add(BatchNormalization())\n",
    "    model.add(LeakyReLU(alpha=0.01))\n",
    "    \n",
    "    model.add(Conv2DTranspose(64, kernel_size=3, strides=1, padding='same'))\n",
    "    \n",
    "    model.add(BatchNormalization())\n",
    "    model.add(LeakyReLU(alpha=0.01))\n",
    "    \n",
    "    model.add(Conv2DTranspose(1,kernel_size=3, strides=2, padding='same'))\n",
    "    model.add(Activation('tanh'))\n",
    "    return model"
   ]
  },
  {
   "cell_type": "code",
   "execution_count": 6,
   "metadata": {},
   "outputs": [],
   "source": [
    "def build_discriminator_net(img_shape):\n",
    "    \n",
    "    model = Sequential()\n",
    "    \n",
    "    model.add(Conv2D(32,kernel_size=3, strides=2, input_shape=img_shape, padding='same'))\n",
    "    model.add(LeakyReLU(alpha=0.01))\n",
    "    \n",
    "    model.add(Conv2D(64,kernel_size=3, strides=2, input_shape=img_shape, padding='same'))\n",
    "    model.add(LeakyReLU(alpha=0.01))\n",
    "    \n",
    "    model.add(Conv2D(128,kernel_size=3, strides=2, input_shape=img_shape, padding='same'))\n",
    "    model.add(LeakyReLU(alpha=0.01))\n",
    "    \n",
    "    model.add(Dropout(0.5))\n",
    "    model.add(Flatten())\n",
    "    \n",
    "    model.add(Dense(num_classes))\n",
    "    return model"
   ]
  },
  {
   "cell_type": "code",
   "execution_count": 7,
   "metadata": {},
   "outputs": [],
   "source": [
    "def build_discriminator_supervised(discriminator_net):\n",
    "    model = Sequential()\n",
    "    model.add(discriminator_net)\n",
    "    model.add(Activation('softmax'))\n",
    "    return model"
   ]
  },
  {
   "cell_type": "code",
   "execution_count": 8,
   "metadata": {},
   "outputs": [],
   "source": [
    "def build_discriminator_unsupervised(discriminator_net):\n",
    "    model = Sequential()\n",
    "    model.add(discriminator_net)\n",
    "    \n",
    "    def predict(x):\n",
    "        prediction = 1.0 - (1.0/(K.sum(K.exp(x),axis=-1 ,keepdims=True)+ 1.0))\n",
    "        return prediction\n",
    "    \n",
    "    model.add(Lambda(predict))\n",
    "    return model"
   ]
  },
  {
   "cell_type": "code",
   "execution_count": 9,
   "metadata": {},
   "outputs": [],
   "source": [
    "def build_gan(generator,discriminator):\n",
    "    model= Sequential()\n",
    "    model.add(generator)\n",
    "    model.add(discriminator)\n",
    "    return model"
   ]
  },
  {
   "cell_type": "code",
   "execution_count": 10,
   "metadata": {},
   "outputs": [],
   "source": [
    "discriminator_net = build_discriminator_net(img_shape)\n",
    "\n",
    "discriminator_supervised = build_discriminator_supervised(discriminator_net)\n",
    "discriminator_supervised.compile(loss='categorical_crossentropy', metrics=['accuracy'],optimizer=Adam(learning_rate=0.0003))\n",
    "\n",
    "discriminator_unsupervised = build_discriminator_unsupervised(discriminator_net)\n",
    "discriminator_unsupervised.compile(loss='binary_crossentropy',optimizer=Adam())"
   ]
  },
  {
   "cell_type": "code",
   "execution_count": 11,
   "metadata": {},
   "outputs": [],
   "source": [
    "generator = build_generator(z_dim)\n",
    "\n",
    "discriminator_unsupervised.trainable = False\n",
    "\n",
    "gan = build_gan(generator, discriminator_unsupervised)\n",
    "gan.compile(loss = 'binary_crossentropy', optimizer=Adam())"
   ]
  },
  {
   "cell_type": "code",
   "execution_count": 12,
   "metadata": {},
   "outputs": [],
   "source": [
    "supervised_losses = []\n",
    "iteration_checkpoints = []\n",
    "\n",
    "def train(iterations, batch_size, sample_interval):\n",
    "    real = np.ones((batch_size, 1))\n",
    "    fake = np.ones((batch_size, 1))\n",
    "    \n",
    "    for iteration in range(iterations):\n",
    "        imgs, labels = dataset.batch_labeled(batch_size)\n",
    "        labels = to_categorical(labels, num_classes=num_classes)\n",
    "        \n",
    "        img_unlabeled = dataset.batch_unlabeled(batch_size)\n",
    "        \n",
    "        z=np.random.normal(0,1,(batch_size,z_dim))\n",
    "\n",
    "        gen_imgs = generator.predict(z)\n",
    "        \n",
    "        d_loss_supervised, accuracy = discriminator_supervised.train_on_batch(imgs,labels)\n",
    "        d_loss_real = discriminator_unsupervised.train_on_batch(img_unlabeled,real)\n",
    "        \n",
    "        \n",
    "        d_loss_fake = discriminator_unsupervised.train_on_batch(gen_imgs, fake)\n",
    "        d_loss_unsupervised = 0.5 * np.add(d_loss_real, d_loss_fake)\n",
    "        \n",
    "        z= np.random.normal(0,1,(batch_size, z_dim))\n",
    "        gen_imgs = generator.predict(z)\n",
    "        \n",
    "        g_loss = gan.train_on_batch(z, np.ones((batch_size,1)))\n",
    "        if(iteration+1) % sample_interval == 0:\n",
    "            supervised_losses.append(d_loss_supervised)\n",
    "            iteration_checkpoints.append(iteration + 1)\n",
    "            \n",
    "            print(\n",
    "                \"%d [D loss supervised: %.4f, acc.: %.2f%%] [D loss unsupervised: %.4f] [G loss: %f]\"\n",
    "                % (iteration + 1, d_loss_supervised, 100 * accuracy,\n",
    "                   d_loss_unsupervised, g_loss))"
   ]
  },
  {
   "cell_type": "code",
   "execution_count": 13,
   "metadata": {},
   "outputs": [
    {
     "name": "stdout",
     "output_type": "stream",
     "text": [
      "800 [D loss supervised: 0.0055, acc.: 100.00%] [D loss unsupervised: 0.0000] [G loss: 0.000000]\n",
      "1600 [D loss supervised: 0.0016, acc.: 100.00%] [D loss unsupervised: 0.0000] [G loss: 0.000000]\n",
      "2400 [D loss supervised: 0.0002, acc.: 100.00%] [D loss unsupervised: 0.0000] [G loss: 0.000000]\n",
      "3200 [D loss supervised: 0.0000, acc.: 100.00%] [D loss unsupervised: 0.0000] [G loss: 0.000000]\n",
      "4000 [D loss supervised: 0.0000, acc.: 100.00%] [D loss unsupervised: 0.0000] [G loss: 0.000000]\n",
      "4800 [D loss supervised: 0.0000, acc.: 100.00%] [D loss unsupervised: 0.0000] [G loss: 0.000000]\n",
      "5600 [D loss supervised: 0.0000, acc.: 100.00%] [D loss unsupervised: 0.0000] [G loss: 0.000000]\n",
      "6400 [D loss supervised: 0.0000, acc.: 100.00%] [D loss unsupervised: 0.0000] [G loss: 0.000000]\n",
      "7200 [D loss supervised: 0.0000, acc.: 100.00%] [D loss unsupervised: 0.0000] [G loss: 0.000000]\n",
      "8000 [D loss supervised: 0.0000, acc.: 100.00%] [D loss unsupervised: 0.0000] [G loss: 0.000000]\n"
     ]
    }
   ],
   "source": [
    "iterations = 8000\n",
    "batch_size = 32\n",
    "sample_interval = 800\n",
    "\n",
    "train(iterations, batch_size, sample_interval)"
   ]
  },
  {
   "cell_type": "code",
   "execution_count": 14,
   "metadata": {},
   "outputs": [
    {
     "data": {
      "image/png": "[encoded data removed]",
      "text/plain": [
       "<Figure size 1080x360 with 1 Axes>"
      ]
     },
     "metadata": {
      "needs_background": "light"
     },
     "output_type": "display_data"
    }
   ],
   "source": [
    "losses = np.array(supervised_losses)\n",
    "\n",
    "# 판별자의 지도 학습 손실을 그립니다.\n",
    "plt.figure(figsize=(15, 5))\n",
    "plt.plot(iteration_checkpoints, losses, label=\"Discriminator loss\")\n",
    "\n",
    "plt.xticks(iteration_checkpoints, rotation=90)\n",
    "\n",
    "plt.title(\"Discriminator – Supervised Loss\")\n",
    "plt.xlabel(\"Iteration\")\n",
    "plt.ylabel(\"Loss\")\n",
    "plt.legend()\n",
    "plt.show()\n"
   ]
  },
  {
   "cell_type": "code",
   "execution_count": 15,
   "metadata": {},
   "outputs": [
    {
     "name": "stdout",
     "output_type": "stream",
     "text": [
      "4/4 [==============================] - 0s 11ms/step - loss: 1.1563e-07 - accuracy: 1.0000\n",
      "Training Accuracy: 100.00%\n"
     ]
    }
   ],
   "source": [
    "x, y = dataset.training_set()\n",
    "y = to_categorical(y, num_classes=num_classes)\n",
    "\n",
    "# 훈련 세트에서 분류 정확도 계산\n",
    "_, accuracy = discriminator_supervised.evaluate(x, y)\n",
    "print(\"Training Accuracy: %.2f%%\" % (100 * accuracy))"
   ]
  },
  {
   "cell_type": "code",
   "execution_count": 16,
   "metadata": {},
   "outputs": [
    {
     "name": "stdout",
     "output_type": "stream",
     "text": [
      "313/313 [==============================] - 1s 3ms/step - loss: 2.7502 - accuracy: 0.7056\n",
      "Test Accuracy: 70.56%\n"
     ]
    }
   ],
   "source": [
    "x, y = dataset.test_set()\n",
    "y = to_categorical(y, num_classes=num_classes)\n",
    "\n",
    "# 테스트 세트에서 분류 정확도 계산\n",
    "_, accuracy = discriminator_supervised.evaluate(x, y)\n",
    "print(\"Test Accuracy: %.2f%%\" % (100 * accuracy))"
   ]
  },
  {
   "cell_type": "code",
   "execution_count": 17,
   "metadata": {},
   "outputs": [],
   "source": [
    "mnist_classifier = build_discriminator_supervised(build_discriminator_net(img_shape))\n",
    "mnist_classifier.compile(loss='categorical_crossentropy',\n",
    "                         metrics=['accuracy'],\n",
    "                         optimizer=Adam())"
   ]
  },
  {
   "cell_type": "code",
   "execution_count": 18,
   "metadata": {},
   "outputs": [
    {
     "name": "stdout",
     "output_type": "stream",
     "text": [
      "Epoch 1/30\n",
      "4/4 [==============================] - 0s 12ms/step - loss: 2.3060 - accuracy: 0.1200\n",
      "Epoch 2/30\n",
      "4/4 [==============================] - 0s 3ms/step - loss: 2.2077 - accuracy: 0.2700\n",
      "Epoch 3/30\n",
      "4/4 [==============================] - 0s 3ms/step - loss: 2.1232 - accuracy: 0.4000\n",
      "Epoch 4/30\n",
      "4/4 [==============================] - 0s 3ms/step - loss: 1.9825 - accuracy: 0.4600\n",
      "Epoch 5/30\n",
      "4/4 [==============================] - 0s 3ms/step - loss: 1.8105 - accuracy: 0.4300\n",
      "Epoch 6/30\n",
      "4/4 [==============================] - 0s 3ms/step - loss: 1.6122 - accuracy: 0.5600\n",
      "Epoch 7/30\n",
      "4/4 [==============================] - 0s 3ms/step - loss: 1.2976 - accuracy: 0.7000\n",
      "Epoch 8/30\n",
      "4/4 [==============================] - 0s 3ms/step - loss: 1.0642 - accuracy: 0.7700\n",
      "Epoch 9/30\n",
      "4/4 [==============================] - 0s 3ms/step - loss: 0.8248 - accuracy: 0.7600\n",
      "Epoch 10/30\n",
      "4/4 [==============================] - 0s 4ms/step - loss: 0.5966 - accuracy: 0.8400\n",
      "Epoch 11/30\n",
      "4/4 [==============================] - 0s 4ms/step - loss: 0.4883 - accuracy: 0.8400\n",
      "Epoch 12/30\n",
      "4/4 [==============================] - 0s 4ms/step - loss: 0.3765 - accuracy: 0.8800\n",
      "Epoch 13/30\n",
      "4/4 [==============================] - 0s 4ms/step - loss: 0.4269 - accuracy: 0.8600\n",
      "Epoch 14/30\n",
      "4/4 [==============================] - 0s 4ms/step - loss: 0.3582 - accuracy: 0.8800\n",
      "Epoch 15/30\n",
      "4/4 [==============================] - 0s 4ms/step - loss: 0.3142 - accuracy: 0.9200\n",
      "Epoch 16/30\n",
      "4/4 [==============================] - 0s 4ms/step - loss: 0.2321 - accuracy: 0.9300\n",
      "Epoch 17/30\n",
      "4/4 [==============================] - 0s 4ms/step - loss: 0.1702 - accuracy: 0.9500\n",
      "Epoch 18/30\n",
      "4/4 [==============================] - 0s 4ms/step - loss: 0.1189 - accuracy: 0.9900\n",
      "Epoch 19/30\n",
      "4/4 [==============================] - 0s 4ms/step - loss: 0.1823 - accuracy: 0.9400\n",
      "Epoch 20/30\n",
      "4/4 [==============================] - 0s 4ms/step - loss: 0.1434 - accuracy: 0.9700\n",
      "Epoch 21/30\n",
      "4/4 [==============================] - 0s 4ms/step - loss: 0.0904 - accuracy: 0.9900\n",
      "Epoch 22/30\n",
      "4/4 [==============================] - 0s 4ms/step - loss: 0.0699 - accuracy: 0.9900\n",
      "Epoch 23/30\n",
      "4/4 [==============================] - 0s 4ms/step - loss: 0.0627 - accuracy: 0.9900\n",
      "Epoch 24/30\n",
      "4/4 [==============================] - 0s 4ms/step - loss: 0.0622 - accuracy: 0.9900\n",
      "Epoch 25/30\n",
      "4/4 [==============================] - 0s 4ms/step - loss: 0.0452 - accuracy: 1.0000\n",
      "Epoch 26/30\n",
      "4/4 [==============================] - 0s 4ms/step - loss: 0.0303 - accuracy: 1.0000\n",
      "Epoch 27/30\n",
      "4/4 [==============================] - 0s 4ms/step - loss: 0.0276 - accuracy: 1.0000\n",
      "Epoch 28/30\n",
      "4/4 [==============================] - 0s 4ms/step - loss: 0.0437 - accuracy: 0.9900\n",
      "Epoch 29/30\n",
      "4/4 [==============================] - 0s 4ms/step - loss: 0.0235 - accuracy: 1.0000\n",
      "Epoch 30/30\n",
      "4/4 [==============================] - 0s 4ms/step - loss: 0.0237 - accuracy: 1.0000\n"
     ]
    }
   ],
   "source": [
    "imgs, labels = dataset.training_set()\n",
    "\n",
    "labels = to_categorical(labels, num_classes=num_classes)\n",
    "\n",
    "training = mnist_classifier.fit(x=imgs,\n",
    "                                y=labels,\n",
    "                                batch_size=32,\n",
    "                                epochs=30,\n",
    "                                verbose=1)\n",
    "losses = training.history['loss']\n",
    "accuracies = training.history['accuracy']"
   ]
  },
  {
   "cell_type": "code",
   "execution_count": 19,
   "metadata": {},
   "outputs": [
    {
     "data": {
      "image/png": "[encoded data removed]",
      "text/plain": [
       "<Figure size 720x360 with 1 Axes>"
      ]
     },
     "metadata": {
      "needs_background": "light"
     },
     "output_type": "display_data"
    }
   ],
   "source": [
    "plt.figure(figsize=(10, 5))\n",
    "plt.plot(np.array(losses), label=\"Loss\")\n",
    "plt.title(\"Classification Loss\")\n",
    "plt.legend()\n",
    "plt.show()"
   ]
  },
  {
   "cell_type": "code",
   "execution_count": 20,
   "metadata": {},
   "outputs": [
    {
     "data": {
      "image/png": "[encoded data removed]",
      "text/plain": [
       "<Figure size 720x360 with 1 Axes>"
      ]
     },
     "metadata": {
      "needs_background": "light"
     },
     "output_type": "display_data"
    }
   ],
   "source": [
    "plt.figure(figsize=(10, 5))\n",
    "plt.plot(np.array(accuracies), label=\"Accuracy\")\n",
    "plt.title(\"Classification Accuracy\")\n",
    "plt.legend()\n",
    "plt.show()\n"
   ]
  },
  {
   "cell_type": "code",
   "execution_count": 21,
   "metadata": {},
   "outputs": [
    {
     "name": "stdout",
     "output_type": "stream",
     "text": [
      "4/4 [==============================] - 0s 2ms/step - loss: 0.0095 - accuracy: 1.0000\n",
      "Training Accuracy: 100.00%\n"
     ]
    }
   ],
   "source": [
    "x, y = dataset.training_set()\n",
    "y = to_categorical(y, num_classes=num_classes)\n",
    "\n",
    "# 훈련 세트에 대한 분류 정확도를 계산합니다.\n",
    "_, accuracy = mnist_classifier.evaluate(x, y)\n",
    "print(\"Training Accuracy: %.2f%%\" % (100 * accuracy))"
   ]
  },
  {
   "cell_type": "code",
   "execution_count": 22,
   "metadata": {},
   "outputs": [
    {
     "name": "stdout",
     "output_type": "stream",
     "text": [
      "313/313 [==============================] - 1s 3ms/step - loss: 1.3659 - accuracy: 0.6813\n",
      "Test Accuracy: 68.13%\n"
     ]
    }
   ],
   "source": [
    "x, y = dataset.test_set()\n",
    "y = to_categorical(y, num_classes=num_classes)\n",
    "\n",
    "# 테스트 세트에 대한 분류 정확도를 계산합니다.\n",
    "_, accuracy = mnist_classifier.evaluate(x, y)\n",
    "print(\"Test Accuracy: %.2f%%\" % (100 * accuracy))"
   ]
  },
  {
   "cell_type": "code",
   "execution_count": null,
   "metadata": {},
   "outputs": [],
   "source": []
  }
 ],
 "metadata": {
  "kernelspec": {
   "display_name": "Python 3",
   "language": "python",
   "name": "python3"
  },
  "language_info": {
   "codemirror_mode": {
    "name": "ipython",
    "version": 3
   },
   "file_extension": ".py",
   "mimetype": "text/x-python",
   "name": "python",
   "nbconvert_exporter": "python",
   "pygments_lexer": "ipython3",
   "version": "3.8.5-final"
  }
 },
 "nbformat": 4,
 "nbformat_minor": 4
}